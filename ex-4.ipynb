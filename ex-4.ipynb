{
 "cells": [
  {
   "cell_type": "code",
   "execution_count": 1,
   "id": "ef833f96-0552-4492-9508-fc6c00f999e5",
   "metadata": {},
   "outputs": [],
   "source": [
    "import numpy as np"
   ]
  },
  {
   "cell_type": "code",
   "execution_count": 2,
   "id": "88168ebc-e1b9-40f8-940f-8ab212ce7c51",
   "metadata": {},
   "outputs": [],
   "source": [
    "import pandas as pd"
   ]
  },
  {
   "cell_type": "code",
   "execution_count": 3,
   "id": "c40e272b-330c-4407-a82b-a6bf0f5a9eea",
   "metadata": {},
   "outputs": [],
   "source": [
    "input_value = np.array([[0, 0], [0, 1], [1, 1], [1, 0]])"
   ]
  },
  {
   "cell_type": "code",
   "execution_count": 4,
   "id": "cfb33fb7-c351-40d7-887f-b28d7b1f487e",
   "metadata": {},
   "outputs": [
    {
     "data": {
      "text/plain": [
       "(4, 2)"
      ]
     },
     "execution_count": 4,
     "metadata": {},
     "output_type": "execute_result"
    }
   ],
   "source": [
    "input_value.shape"
   ]
  },
  {
   "cell_type": "code",
   "execution_count": 5,
   "id": "93a70b79-d903-4a22-933b-e2dcc49177a1",
   "metadata": {},
   "outputs": [],
   "source": [
    "output = np.array([0, 0, 1, 0])"
   ]
  },
  {
   "cell_type": "code",
   "execution_count": 6,
   "id": "5d2d9487-f84f-4033-bfe7-93c3ba7d313d",
   "metadata": {},
   "outputs": [],
   "source": [
    "output = output.reshape(4, 1)"
   ]
  },
  {
   "cell_type": "code",
   "execution_count": 7,
   "id": "120d8324-dbd9-4ee5-8148-7863ea662d69",
   "metadata": {},
   "outputs": [
    {
     "data": {
      "text/plain": [
       "(4, 1)"
      ]
     },
     "execution_count": 7,
     "metadata": {},
     "output_type": "execute_result"
    }
   ],
   "source": [
    "output.shape"
   ]
  },
  {
   "cell_type": "code",
   "execution_count": 8,
   "id": "7e8c7ab6-bd3f-40bc-bbd9-000a23c12b1f",
   "metadata": {},
   "outputs": [],
   "source": [
    "weights = np.array([[0.1], [0.3]])"
   ]
  },
  {
   "cell_type": "code",
   "execution_count": 9,
   "id": "736319b9-a041-43f4-960f-e5a6f7fb99d2",
   "metadata": {},
   "outputs": [
    {
     "data": {
      "text/plain": [
       "array([[0.1],\n",
       "       [0.3]])"
      ]
     },
     "execution_count": 9,
     "metadata": {},
     "output_type": "execute_result"
    }
   ],
   "source": [
    "weights"
   ]
  },
  {
   "cell_type": "code",
   "execution_count": 10,
   "id": "84f7cf43-170b-4ce7-9607-ffba05e8f701",
   "metadata": {},
   "outputs": [],
   "source": [
    "bias = 0.2"
   ]
  },
  {
   "cell_type": "code",
   "execution_count": 12,
   "id": "0c770e25-cb47-4dc0-86eb-01394ce48461",
   "metadata": {},
   "outputs": [],
   "source": [
    "def sigmoid_func(x):\n",
    "    return 1 / (1 + np.exp(-x))"
   ]
  },
  {
   "cell_type": "code",
   "execution_count": 13,
   "id": "d7e65566-44a3-45c1-8c5d-8ccf5e2ef9ee",
   "metadata": {},
   "outputs": [],
   "source": [
    "def der(x):\n",
    "    return sigmoid_func(x) * (1 - sigmoid_func(x))"
   ]
  },
  {
   "cell_type": "code",
   "execution_count": 15,
   "id": "8eef166d-c875-46e1-8ebc-fc6f053942a8",
   "metadata": {},
   "outputs": [],
   "source": [
    "for epochs in range(15000):\n",
    "    input_arr = input_value\n",
    "    weighted_sum = np.dot(input_arr, weights) + bias\n",
    "    first_output = sigmoid_func(weighted_sum)\n",
    "    error = first_output - output\n",
    "    total_error = np.square(np.subtract(first_output, output)).mean()\n",
    "    first_der = error\n",
    "    second_der = der(first_output)\n",
    "    derivative = first_der * second_der\n",
    "    t_input = input_value.T\n",
    "    final_derivative = np.dot(t_input, derivative)\n",
    "    weights = weights - (0.05 * final_derivative)\n",
    "    for i in derivative:\n",
    "        bias = bias - (0.05 * i)"
   ]
  },
  {
   "cell_type": "code",
   "execution_count": 16,
   "id": "9c6b353c-f6c0-4d9a-adbb-ea59abf6e26a",
   "metadata": {},
   "outputs": [
    {
     "name": "stdout",
     "output_type": "stream",
     "text": [
      "[[6.62916366]\n",
      " [6.62916441]]\n",
      "[-10.23197316]\n"
     ]
    }
   ],
   "source": [
    "print(weights)\n",
    "print(bias)"
   ]
  },
  {
   "cell_type": "code",
   "execution_count": 17,
   "id": "fbfb8960-0f50-47f0-90ba-8300be6c1d34",
   "metadata": {},
   "outputs": [],
   "source": [
    "pred = np.array([1, 0])"
   ]
  },
  {
   "cell_type": "code",
   "execution_count": 18,
   "id": "252e76b7-f009-4f5b-89c1-26fe8e7416f0",
   "metadata": {},
   "outputs": [],
   "source": [
    "result = np.dot(pred, weights) + bias"
   ]
  },
  {
   "cell_type": "code",
   "execution_count": 19,
   "id": "b5e430e1-f591-470f-b3df-e74e06e5978c",
   "metadata": {},
   "outputs": [],
   "source": [
    "res = sigmoid_func(result)"
   ]
  },
  {
   "cell_type": "code",
   "execution_count": 20,
   "id": "a2f4f705-97ff-4375-8085-a46d2dd77d69",
   "metadata": {},
   "outputs": [
    {
     "name": "stdout",
     "output_type": "stream",
     "text": [
      "[0.02652435]\n"
     ]
    }
   ],
   "source": [
    "print(res)"
   ]
  },
  {
   "cell_type": "code",
   "execution_count": 21,
   "id": "8e6d525d-681c-4dd4-aad4-5bc0ec23b334",
   "metadata": {},
   "outputs": [],
   "source": [
    "pred = np.array([1, 1])"
   ]
  },
  {
   "cell_type": "code",
   "execution_count": 22,
   "id": "0e566f2f-3640-4bcc-8405-8a4d8e8c8827",
   "metadata": {},
   "outputs": [],
   "source": [
    "result = np.dot(pred, weights) + bias"
   ]
  },
  {
   "cell_type": "code",
   "execution_count": 23,
   "id": "61229321-80c0-47aa-9c71-07d995fc3af6",
   "metadata": {},
   "outputs": [],
   "source": [
    "res = sigmoid_func(result)"
   ]
  },
  {
   "cell_type": "code",
   "execution_count": 24,
   "id": "9f26835b-5daf-47a4-a0a0-d305db15b7ca",
   "metadata": {},
   "outputs": [
    {
     "name": "stdout",
     "output_type": "stream",
     "text": [
      "[0.95375065]\n"
     ]
    }
   ],
   "source": [
    "print(res)"
   ]
  },
  {
   "cell_type": "code",
   "execution_count": 25,
   "id": "b0f57d75-5fca-454a-89e8-8299a9c401a0",
   "metadata": {},
   "outputs": [],
   "source": [
    "pred = np.array([0, 0])"
   ]
  },
  {
   "cell_type": "code",
   "execution_count": 26,
   "id": "f5a2e1c7-7cd6-463d-a99b-20ac7e042f20",
   "metadata": {},
   "outputs": [],
   "source": [
    "result = np.dot(pred, weights) + bias"
   ]
  },
  {
   "cell_type": "code",
   "execution_count": 27,
   "id": "67951d0d-fb1e-4f36-980f-edca80edf98c",
   "metadata": {},
   "outputs": [],
   "source": [
    "res = sigmoid_func(result)"
   ]
  },
  {
   "cell_type": "code",
   "execution_count": 28,
   "id": "8d4cfdb7-7d72-44fc-bd72-0791eda48c94",
   "metadata": {},
   "outputs": [
    {
     "name": "stdout",
     "output_type": "stream",
     "text": [
      "[3.59993686e-05]\n"
     ]
    }
   ],
   "source": [
    "print(res)\n"
   ]
  },
  {
   "cell_type": "code",
   "execution_count": 29,
   "id": "0ba089db-92b1-46e9-9995-cb8c70c12ee7",
   "metadata": {},
   "outputs": [],
   "source": [
    "pred = np.array([0, 1])"
   ]
  },
  {
   "cell_type": "code",
   "execution_count": 30,
   "id": "bb4b4a31-400a-4978-8fae-02a87472e1c5",
   "metadata": {},
   "outputs": [],
   "source": [
    "result = np.dot(pred, weights) + bias"
   ]
  },
  {
   "cell_type": "code",
   "execution_count": 31,
   "id": "b59a06b2-b9cf-453a-b9e0-1adf95036456",
   "metadata": {},
   "outputs": [],
   "source": [
    "res = sigmoid_func(result)"
   ]
  },
  {
   "cell_type": "code",
   "execution_count": 32,
   "id": "6c66b740-3e75-4209-ad3a-6768476797a7",
   "metadata": {},
   "outputs": [
    {
     "name": "stdout",
     "output_type": "stream",
     "text": [
      "[0.02652437]\n"
     ]
    }
   ],
   "source": [
    "print(res)"
   ]
  },
  {
   "cell_type": "code",
   "execution_count": 33,
   "id": "af1fe9fe-e59d-48d7-b364-304b1671616e",
   "metadata": {},
   "outputs": [
    {
     "name": "stdout",
     "output_type": "stream",
     "text": [
      "[[6.62916366]\n",
      " [6.62916441]]\n",
      "[-10.23197316]\n",
      "[0.02652435]\n",
      "[0.95375065]\n",
      "[3.59993686e-05]\n",
      "[0.02652437]\n"
     ]
    }
   ],
   "source": [
    "import numpy as np\n",
    "import pandas as pd\n",
    "\n",
    "input_value = np.array([[0, 0], [0, 1], [1, 1], [1, 0]])\n",
    "input_value.shape\n",
    "# (4, 2)\n",
    "\n",
    "output = np.array([0, 0, 1, 0])\n",
    "output = output.reshape(4, 1)\n",
    "output.shape\n",
    "# (4, 1)\n",
    "\n",
    "weights = np.array([[0.1], [0.3]])\n",
    "weights\n",
    "# array([[0.1], [0.3]])\n",
    "\n",
    "bias = 0.2\n",
    "\n",
    "def sigmoid_func(x):\n",
    "    return 1 / (1 + np.exp(-x))\n",
    "\n",
    "def der(x):\n",
    "    return sigmoid_func(x) * (1 - sigmoid_func(x))\n",
    "\n",
    "for epochs in range(15000):\n",
    "    input_arr = input_value\n",
    "    weighted_sum = np.dot(input_arr, weights) + bias\n",
    "    first_output = sigmoid_func(weighted_sum)\n",
    "    error = first_output - output\n",
    "    total_error = np.square(np.subtract(first_output, output)).mean()\n",
    "    first_der = error\n",
    "    second_der = der(first_output)\n",
    "    derivative = first_der * second_der\n",
    "    t_input = input_value.T\n",
    "    final_derivative = np.dot(t_input, derivative)\n",
    "    weights = weights - (0.05 * final_derivative)\n",
    "    for i in derivative:\n",
    "        bias = bias - (0.05 * i)\n",
    "\n",
    "print(weights)\n",
    "# [16.57299223]\n",
    "print(bias)\n",
    "# [-25.14783487]\n",
    "\n",
    "pred = np.array([1, 0])\n",
    "result = np.dot(pred, weights) + bias\n",
    "res = sigmoid_func(result)\n",
    "print(res)\n",
    "# [0.00018876]\n",
    "\n",
    "pred = np.array([1, 1])\n",
    "result = np.dot(pred, weights) + bias\n",
    "res = sigmoid_func(result)\n",
    "print(res)\n",
    "# [0.99966403]\n",
    "\n",
    "pred = np.array([0, 0])\n",
    "result = np.dot(pred, weights) + bias\n",
    "res = sigmoid_func(result)\n",
    "print(res)\n",
    "# [1.19793729e-11]\n",
    "\n",
    "pred = np.array([0, 1])\n",
    "result = np.dot(pred, weights) + bias\n",
    "res = sigmoid_func(result)\n",
    "print(res)\n"
   ]
  },
  {
   "cell_type": "code",
   "execution_count": null,
   "id": "142e1e18-173c-4826-be67-b48a4c04e7f3",
   "metadata": {},
   "outputs": [],
   "source": []
  }
 ],
 "metadata": {
  "kernelspec": {
   "display_name": "Python 3 (ipykernel)",
   "language": "python",
   "name": "python3"
  },
  "language_info": {
   "codemirror_mode": {
    "name": "ipython",
    "version": 3
   },
   "file_extension": ".py",
   "mimetype": "text/x-python",
   "name": "python",
   "nbconvert_exporter": "python",
   "pygments_lexer": "ipython3",
   "version": "3.12.5"
  }
 },
 "nbformat": 4,
 "nbformat_minor": 5
}

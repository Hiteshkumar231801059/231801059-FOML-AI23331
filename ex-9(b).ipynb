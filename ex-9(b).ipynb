{
 "cells": [
  {
   "cell_type": "code",
   "execution_count": 2,
   "id": "55e98003-eb45-45e9-abc3-37b7a81d7a55",
   "metadata": {},
   "outputs": [
    {
     "name": "stdout",
     "output_type": "stream",
     "text": [
      "Cluster Centers:\n",
      " [[ 0.54995517  0.28524553  0.96163041 -1.04670366]\n",
      " [ 1.23798946  0.60635612  2.00231725  1.91433481]\n",
      " [ 0.2373546   0.11577163  0.38170444  0.42466382]]\n"
     ]
    }
   ],
   "source": [
    "import numpy as np \n",
    "from sklearn.cluster import KMeans \n",
    "from sklearn.datasets import make_classification \n",
    " \n",
    "X, _ = make_classification(n_samples=100, n_features=4, n_clusters_per_class=1, \n",
    "random_state=42) \n",
    " \n",
    "kmeans = KMeans(n_clusters=3, random_state=42) \n",
    "kmeans.fit(X) \n",
    " \n",
    "print(\"Cluster Centers:\\n\", kmeans.cluster_centers_) "
   ]
  },
  {
   "cell_type": "code",
   "execution_count": null,
   "id": "cdcb9ce5-2f35-437d-82d0-637f81b15127",
   "metadata": {},
   "outputs": [],
   "source": []
  }
 ],
 "metadata": {
  "kernelspec": {
   "display_name": "Python 3 (ipykernel)",
   "language": "python",
   "name": "python3"
  },
  "language_info": {
   "codemirror_mode": {
    "name": "ipython",
    "version": 3
   },
   "file_extension": ".py",
   "mimetype": "text/x-python",
   "name": "python",
   "nbconvert_exporter": "python",
   "pygments_lexer": "ipython3",
   "version": "3.12.5"
  }
 },
 "nbformat": 4,
 "nbformat_minor": 5
}
